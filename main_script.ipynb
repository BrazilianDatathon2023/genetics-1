{
 "cells": [
  {
   "cell_type": "code",
   "execution_count": 1,
   "id": "48375d7c-b86c-462b-a174-007b07eed59f",
   "metadata": {
    "tags": []
   },
   "outputs": [],
   "source": [
    "import prs_calculator\n",
    "import load_effect_sizes_file\n",
    "import boto3\n",
    "import pandas as pd\n",
    "import gzip\n",
    "import matplotlib.pyplot as plt\n",
    "import numpy as np\n",
    "\n",
    "from prs_plots import *"
   ]
  },
  {
   "cell_type": "markdown",
   "id": "a2e1b286-e19c-4553-9ec4-238127e91005",
   "metadata": {},
   "source": [
    "# Funções Adicionais"
   ]
  },
  {
   "cell_type": "code",
   "execution_count": 2,
   "id": "37353d92-7153-400b-83a6-bdca5c370031",
   "metadata": {
    "tags": []
   },
   "outputs": [],
   "source": [
    "def common_elements(list1, list2):\n",
    "    result = []\n",
    "    for element in list1:\n",
    "        if element in list2 and element not in result:\n",
    "            result.append(element)\n",
    "    return result\n",
    "\n",
    "def filter_effect(effect_sizes, variants_allowlist):\n",
    "    effect_sizes_filtered = {}\n",
    "    for key, value in effect_sizes.items():\n",
    "        if key in variants_allowlist:\n",
    "            effect_sizes_filtered[key] = value\n",
    "    return effect_sizes_filtered\n",
    "\n",
    "def zscore(column):\n",
    "    return (column - column.mean()) / column.std()"
   ]
  },
  {
   "cell_type": "markdown",
   "id": "da39f360-3105-4919-9830-3332c49408fe",
   "metadata": {},
   "source": [
    "# Carregar arquivos"
   ]
  },
  {
   "cell_type": "code",
   "execution_count": 3,
   "id": "95731476-29ff-4b40-b5e4-3dc0e5a9eb7e",
   "metadata": {
    "tags": []
   },
   "outputs": [],
   "source": [
    "s3 = boto3.client('s3')\n",
    "source_bucket = 'filesdatathon-grupo01'"
   ]
  },
  {
   "cell_type": "code",
   "execution_count": 4,
   "id": "0abf76e4-4fc0-4de2-916f-c3b96dbe6fff",
   "metadata": {
    "tags": []
   },
   "outputs": [
    {
     "name": "stderr",
     "output_type": "stream",
     "text": [
      "/home/ec2-user/SageMaker/load_effect_sizes_file.py:7: SettingWithCopyWarning: \n",
      "A value is trying to be set on a copy of a slice from a DataFrame.\n",
      "Try using .loc[row_indexer,col_indexer] = value instead\n",
      "\n",
      "See the caveats in the documentation: https://pandas.pydata.org/pandas-docs/stable/user_guide/indexing.html#returning-a-view-versus-a-copy\n",
      "  effect_sizes['chr'] = effect_sizes['chr'].astype(str)\n",
      "/home/ec2-user/SageMaker/load_effect_sizes_file.py:8: SettingWithCopyWarning: \n",
      "A value is trying to be set on a copy of a slice from a DataFrame.\n",
      "Try using .loc[row_indexer,col_indexer] = value instead\n",
      "\n",
      "See the caveats in the documentation: https://pandas.pydata.org/pandas-docs/stable/user_guide/indexing.html#returning-a-view-versus-a-copy\n",
      "  effect_sizes['pos_hg38'] = effect_sizes['pos_hg38'].astype(int)\n",
      "/home/ec2-user/SageMaker/load_effect_sizes_file.py:9: SettingWithCopyWarning: \n",
      "A value is trying to be set on a copy of a slice from a DataFrame.\n",
      "Try using .loc[row_indexer,col_indexer] = value instead\n",
      "\n",
      "See the caveats in the documentation: https://pandas.pydata.org/pandas-docs/stable/user_guide/indexing.html#returning-a-view-versus-a-copy\n",
      "  effect_sizes['locus'] = effect_sizes['chr'].astype(str) + ':' + effect_sizes['pos_hg38'].astype(str) # pylint: disable=line-too-long\n"
     ]
    }
   ],
   "source": [
    "# Read effect size files\n",
    "# some warnings are expected.\n",
    "obj = s3.get_object(Bucket=\"filesdatathon-grupo01\", Key=\"PGS002296_hmPOS_GRCh38_modified.txt\")\n",
    "effect_sizes = load_effect_sizes_file.load_effect_sizes(pd.read_csv(obj[\"Body\"], delimiter = \"\\t\"))\n",
    "\n",
    "# Read clinical data\n",
    "obj = s3.get_object(Bucket=\"filesdatathon-grupo01\", Key=\"datathon-pheno.tsv\")\n",
    "clin_data = pd.read_csv(obj[\"Body\"], delimiter = \"\\t\")\n",
    "\n",
    "# Open variants features\n",
    "obj = s3.get_object(Bucket=\"filesdatathon-grupo01\", Key=\"snps-functional-classification.tsv\")\n",
    "vars_data = pd.read_csv(obj[\"Body\"], delimiter = \"\\t\")\n",
    "# Fix hg38 position\n",
    "obj = s3.get_object(Bucket=\"filesdatathon-grupo01\", Key=\"PGS002296_hmPOS_GRCh38_modified.txt\")\n",
    "pos_hg38 = pd.read_csv(obj[\"Body\"], delimiter = \"\\t\")[[\"rsID\",\"pos_hg38\"]]\n",
    "pos_hg38.columns = [\"rs_id\", \"pos_hg38\"]\n",
    "vars_data.drop(\"pos_hg38\", axis = 1, inplace = True)\n",
    "vars_data = pd.merge(vars_data, pos_hg38, on = 'rs_id')"
   ]
  },
  {
   "cell_type": "code",
   "execution_count": null,
   "id": "33b54385-4c41-4274-890d-e82e88b688fc",
   "metadata": {
    "tags": []
   },
   "outputs": [],
   "source": [
    "# Calculate original PRS\n",
    "obj = s3.get_object(Bucket=\"filesdatathon-grupo01\", Key=\"target_cohort.vcf\")\n",
    "\n",
    "samples_prs = prs_calculator.calc_vcf_prs(obj[\"Body\"].iter_lines(), effect_sizes)\n",
    "sample_prs_df = pd.DataFrame(zip(list(samples_prs.keys()), list(samples_prs.values())))\n",
    "sample_prs_df.columns = ['s', 'original_prs_sum']\n",
    "\n"
   ]
  },
  {
   "cell_type": "code",
   "execution_count": null,
   "id": "a5cc9c47-cbea-4a0b-8236-88d3974c6026",
   "metadata": {
    "tags": []
   },
   "outputs": [],
   "source": [
    "# Merging original PRS with clinical data\n",
    "main_data = pd.merge(clin_data, sample_prs_df)\n",
    "main_data[\"original_prs_sum\"] = zscore(main_data[\"original_prs_sum\"])"
   ]
  },
  {
   "cell_type": "markdown",
   "id": "b319ee2c-da65-4eca-94e4-5e5db11055ca",
   "metadata": {},
   "source": [
    "# Original Model"
   ]
  },
  {
   "cell_type": "code",
   "execution_count": null,
   "id": "d0bed618-ae81-4131-91aa-806180e4b6e9",
   "metadata": {
    "tags": []
   },
   "outputs": [],
   "source": [
    "plot_density(main_data, prs_column = \"original_prs_sum\")"
   ]
  },
  {
   "cell_type": "code",
   "execution_count": null,
   "id": "688796a9-2044-4856-98d7-a9cb0fc53920",
   "metadata": {
    "tags": []
   },
   "outputs": [],
   "source": [
    "predictors = ['original_prs_sum','age','bmi','pc1','pc2','pc3','pc4','pc5']\n",
    "plot_roc(main_data, predictors, \"Full model\")"
   ]
  },
  {
   "cell_type": "code",
   "execution_count": null,
   "id": "993b29cd-4436-453b-a7a4-a06e65eecc94",
   "metadata": {
    "tags": []
   },
   "outputs": [],
   "source": [
    "predictors = ['original_prs_sum']\n",
    "plot_roc(main_data, predictors, \"Full model\")"
   ]
  },
  {
   "cell_type": "markdown",
   "id": "7770e16f-adcf-4ddf-b84f-03567fa63cef",
   "metadata": {
    "tags": []
   },
   "source": [
    "# METODO 01 - FILTRAGEM\n",
    "## Filtragem por frequencia em população\n",
    "Filtragem por frequência semelhante na população europeia e africana (do 1000 genomas);\n",
    "Cutoff 10%"
   ]
  },
  {
   "cell_type": "code",
   "execution_count": null,
   "id": "27825c5e-c4dc-4f44-852a-8e1523a2a2ba",
   "metadata": {
    "tags": []
   },
   "outputs": [],
   "source": [
    "vars_data_f = vars_data\n",
    "vars_data_f = vars_data_f[vars_data_f[\"x1000g_afr\"] != \".\"] \n",
    "vars_data_f = vars_data_f[vars_data_f[\"x1000g_eur\"] != \".\"]\n",
    "vars_data_f = vars_data_f.dropna(subset = [\"x1000g_afr\", \"x1000g_eur\"])\n",
    "vars_data_f[\"dif_eur_afr\"] = (vars_data_f[\"x1000g_afr\"].astype(float) - vars_data_f[\"x1000g_eur\"].astype(float)).abs()\n",
    "\n",
    "vars_data_f = vars_data_f[vars_data_f[\"dif_eur_afr\"] < 0.1]\n",
    "\n",
    "vars_data_f = vars_data_f.drop_duplicates(subset = \"rs_id\", keep = 'first')\n",
    "\n",
    "variants_allowlist_freq_pop = list(vars_data_f.apply(lambda row: \"chr\" +str(row[\"chromosome\"]) + \":\" + str(row[\"pos_hg38\"]), axis = 1))"
   ]
  },
  {
   "cell_type": "code",
   "execution_count": null,
   "id": "209f7b87-e250-440f-9bce-2d8cfd9c18a2",
   "metadata": {
    "tags": []
   },
   "outputs": [],
   "source": [
    "effect_sizes_filtered = filter_effect(effect_sizes, variants_allowlist_freq_pop)"
   ]
  },
  {
   "cell_type": "code",
   "execution_count": null,
   "id": "6b53dc63-74a7-42f0-a765-c05662364619",
   "metadata": {
    "tags": []
   },
   "outputs": [],
   "source": [
    "obj = s3.get_object(Bucket=\"filesdatathon-grupo01\", Key=\"target_cohort.vcf\")\n",
    "samples_prs = prs_calculator.calc_vcf_prs(obj[\"Body\"].iter_lines(), effect_sizes_filtered)\n",
    "sample_prs_df = pd.DataFrame(zip(list(samples_prs.keys()), list(samples_prs.values())))\n",
    "sample_prs_df.columns = ['s', 'filtered_pop_prs_sum']\n",
    "main_data = pd.merge(clin_data, sample_prs_df)\n",
    "main_data[\"filtered_pop_prs_sum\"] = zscore(main_data[\"filtered_pop_prs_sum\"])"
   ]
  },
  {
   "cell_type": "code",
   "execution_count": null,
   "id": "500dd447-682d-4828-a06e-eb48f0923902",
   "metadata": {
    "tags": []
   },
   "outputs": [],
   "source": [
    "plot_density(main_data, prs_column = \"filtered_pop_prs_sum\")"
   ]
  },
  {
   "cell_type": "code",
   "execution_count": null,
   "id": "9b538815-2297-4190-ac6b-ab38dd29e8bc",
   "metadata": {
    "tags": []
   },
   "outputs": [],
   "source": [
    "predictors = ['filtered_pop_prs_sum','age','bmi','pc1','pc2','pc3','pc4','pc5']\n",
    "plot_roc(main_data, predictors, \"Full model (POP filtered)\")"
   ]
  },
  {
   "cell_type": "code",
   "execution_count": null,
   "id": "1488ff5d-895a-445f-bb6a-d0669a7a449e",
   "metadata": {
    "tags": []
   },
   "outputs": [],
   "source": [
    "predictors = ['filtered_pop_prs_sum']\n",
    "plot_roc(main_data, predictors, \"PRS model (POP filtered)\")"
   ]
  },
  {
   "cell_type": "code",
   "execution_count": null,
   "id": "a7a72d0e-31e2-4354-8330-8a1713a34191",
   "metadata": {
    "tags": []
   },
   "outputs": [],
   "source": [
    "# Filter Genes\n",
    "variants_allowlist_gene = vars_data.dropna(subset = [\"symbol\"])\n",
    "variants_allowlist_gene = variants_allowlist_gene.drop_duplicates(subset = \"rs_id\", keep = 'first')\n",
    "variants_allowlist_gene = list(variants_allowlist_gene.apply(lambda row: \"chr\" +str(row[\"chromosome\"]) + \":\" + str(row[\"pos_hg38\"]), axis = 1))        "
   ]
  },
  {
   "cell_type": "markdown",
   "id": "33a66933-1aff-4700-8eaa-ec63d5626828",
   "metadata": {
    "tags": []
   },
   "source": [
    "## Filtragem por região gênica"
   ]
  },
  {
   "cell_type": "code",
   "execution_count": null,
   "id": "b7e28002-8125-4c05-8531-3a83fcc32ca0",
   "metadata": {
    "tags": []
   },
   "outputs": [],
   "source": [
    "effect_sizes_filtered = filter_effect(effect_sizes, variants_allowlist_gene)\n",
    "\n",
    "obj = s3.get_object(Bucket=\"filesdatathon-grupo01\", Key=\"target_cohort.vcf\")\n",
    "samples_prs = prs_calculator.calc_vcf_prs(obj[\"Body\"].iter_lines(), effect_sizes_filtered)\n",
    "sample_prs_df = pd.DataFrame(zip(list(samples_prs.keys()), list(samples_prs.values())))\n",
    "sample_prs_df.columns = ['s', 'filtered_gene_prs_sum']\n",
    "main_data = pd.merge(clin_data, sample_prs_df)\n",
    "main_data[\"filtered_gene_prs_sum\"] = zscore(main_data[\"filtered_gene_prs_sum\"])"
   ]
  },
  {
   "cell_type": "code",
   "execution_count": null,
   "id": "03fc6b7e-72a7-4276-beeb-4e2c8a6b5e0f",
   "metadata": {
    "tags": []
   },
   "outputs": [],
   "source": [
    "plot_density(main_data, prs_column = \"filtered_gene_prs_sum\")"
   ]
  },
  {
   "cell_type": "code",
   "execution_count": null,
   "id": "a9592a3f-cc13-43cc-b689-06c7b8cdff7c",
   "metadata": {
    "tags": []
   },
   "outputs": [],
   "source": [
    "predictors = ['filtered_gene_prs_sum','age','bmi','pc1','pc2','pc3','pc4','pc5']\n",
    "plot_roc(main_data, predictors, \"Full model (GENE filtered)\")"
   ]
  },
  {
   "cell_type": "code",
   "execution_count": null,
   "id": "d03197f4-c8e4-46d7-9a03-7aec802d83de",
   "metadata": {
    "tags": []
   },
   "outputs": [],
   "source": [
    "predictors = ['filtered_gene_prs_sum']\n",
    "plot_roc(main_data, predictors, \"PRS only model (GENE filtered)\")"
   ]
  },
  {
   "cell_type": "markdown",
   "id": "7cf67857-4a43-4c54-8f03-d62ee68bc3ed",
   "metadata": {},
   "source": [
    "## Filtragem por região gênica & frequência populacional"
   ]
  },
  {
   "cell_type": "code",
   "execution_count": null,
   "id": "4536203e-54fb-4973-b341-4547538c75e9",
   "metadata": {
    "tags": []
   },
   "outputs": [],
   "source": [
    "variants_allowlist_both = common_elements(variants_allowlist_freq_pop, variants_allowlist_gene)\n",
    "\n",
    "effect_sizes_filtered = filter_effect(effect_sizes, variants_allowlist_both)\n",
    "\n",
    "obj = s3.get_object(Bucket=\"filesdatathon-grupo01\", Key=\"target_cohort.vcf\")\n",
    "samples_prs = prs_calculator.calc_vcf_prs(obj[\"Body\"].iter_lines(), effect_sizes_filtered)\n",
    "sample_prs_df = pd.DataFrame(zip(list(samples_prs.keys()), list(samples_prs.values())))\n",
    "sample_prs_df.columns = ['s', 'filtered_both_prs_sum']\n",
    "main_data = pd.merge(clin_data, sample_prs_df)\n",
    "main_data[\"filtered_both_prs_sum\"] = zscore(main_data[\"filtered_both_prs_sum\"])"
   ]
  },
  {
   "cell_type": "code",
   "execution_count": null,
   "id": "1fe1dc4c-4961-491b-8962-c4bebbb9ab89",
   "metadata": {
    "tags": []
   },
   "outputs": [],
   "source": [
    "plot_density(main_data, prs_column = \"filtered_both_prs_sum\")"
   ]
  },
  {
   "cell_type": "code",
   "execution_count": null,
   "id": "b4abe36a-c297-4f71-b342-1ea8678cf86b",
   "metadata": {
    "tags": []
   },
   "outputs": [],
   "source": [
    "predictors = ['filtered_both_prs_sum','age','bmi','pc1','pc2','pc3','pc4','pc5']\n",
    "plot_roc(main_data, predictors, \"Full model (BOTH filtered)\")"
   ]
  },
  {
   "cell_type": "code",
   "execution_count": null,
   "id": "1d13e070-cc51-4711-a514-1720d3bd29cf",
   "metadata": {
    "tags": []
   },
   "outputs": [],
   "source": [
    "predictors = ['filtered_both_prs_sum']\n",
    "plot_roc(main_data, predictors, \"PRS model (BOTH filtered)\")"
   ]
  },
  {
   "cell_type": "markdown",
   "id": "ef712800-3b49-46ce-a1a5-1e9ef5d30cbe",
   "metadata": {},
   "source": [
    "# METODO 02 - NOVOS PESOS\n",
    "## CADD pherd como score"
   ]
  },
  {
   "cell_type": "code",
   "execution_count": null,
   "id": "cbfd5d3d-2125-4346-8789-8eadd90066a1",
   "metadata": {
    "tags": []
   },
   "outputs": [],
   "source": [
    "# CADD as SCORE\n",
    "\n",
    "obj = s3.get_object(Bucket=\"filesdatathon-grupo01\", Key=\"PGS002296_hmPOS_GRCh38_modified.txt\")\n",
    "grch38_df = pd.DataFrame(pd.read_csv(obj[\"Body\"], delimiter = \"\\t\"))\n",
    "grch38_df.columns = ['rs_id', 'chr','pos_hg19','pos_hg38','risk_allele','other_allele','weight_1']\n",
    "\n",
    "vars_data = vars_data.dropna(subset=['cadd_phred'])\n",
    "grch38_df = pd.merge(grch38_df, vars_data[['rs_id','cadd_phred']], on='rs_id',how='inner')\n",
    "grch38_df['weight'] = grch38_df['cadd_phred']\n",
    "\n",
    "effect_sizes_cadd = load_effect_sizes_file.load_effect_sizes(grch38_df)\n",
    "\n",
    "obj = s3.get_object(Bucket=\"filesdatathon-grupo01\", Key=\"target_cohort.vcf\")\n",
    "samples_prs = prs_calculator.calc_vcf_prs(obj[\"Body\"].iter_lines(), effect_sizes_cadd)\n",
    "sample_prs_df = pd.DataFrame(zip(list(samples_prs.keys()), list(samples_prs.values())))\n",
    "sample_prs_df.columns = ['s', 'filtered_cadd_prs_sum']\n",
    "main_data = pd.merge(clin_data, sample_prs_df)\n",
    "main_data[\"filtered_cadd_prs_sum\"] = zscore(main_data[\"filtered_cadd_prs_sum\"])"
   ]
  },
  {
   "cell_type": "code",
   "execution_count": null,
   "id": "4f58ee47-bb39-4d91-8290-8a6e7e652892",
   "metadata": {
    "tags": []
   },
   "outputs": [],
   "source": [
    "plot_density(main_data, prs_column = \"filtered_cadd_prs_sum\")"
   ]
  },
  {
   "cell_type": "code",
   "execution_count": null,
   "id": "40e534d4-9de7-4129-b04f-911b156a46d3",
   "metadata": {
    "tags": []
   },
   "outputs": [],
   "source": [
    "predictors = ['filtered_cadd_prs_sum','age','bmi','pc1','pc2','pc3','pc4','pc5']\n",
    "plot_roc(main_data, predictors, \"Full model (CADD weight)\")"
   ]
  },
  {
   "cell_type": "code",
   "execution_count": null,
   "id": "9e2a4ea5-0868-42fa-bb88-e818a6db8b6d",
   "metadata": {
    "tags": []
   },
   "outputs": [],
   "source": [
    "predictors = ['filtered_cadd_prs_sum']\n",
    "plot_roc(main_data, predictors, \"Full model (CADD weight)\")"
   ]
  },
  {
   "cell_type": "markdown",
   "id": "45a59de4-55c7-4318-8522-438795395dd2",
   "metadata": {},
   "source": [
    "## Expressão diferencial em tecidos como pesos"
   ]
  },
  {
   "cell_type": "code",
   "execution_count": null,
   "id": "d7861553-3dcd-43b0-b6b7-39617fcf5ca9",
   "metadata": {
    "tags": []
   },
   "outputs": [],
   "source": [
    "tissues_list = ['Artery_Aorta','Artery_Coronary', 'Artery_Tibial', 'Heart_Atrial_Appendage', 'Heart_Left_Ventricle', 'Kidney_Cortex', 'Whole_Blood']\n",
    "\n",
    "for tissue in tissues_list:\n",
    "    vars_data[tissue + '_b'] = vars_data[tissue].apply(lambda x: 1 if x in ['high-expression','low-expression'] else 0)\n",
    "\n",
    "vars_data['tissue_weight'] = vars_data['Artery_Aorta_b'] + vars_data['Artery_Coronary_b'] + vars_data['Artery_Tibial_b'] + vars_data['Heart_Atrial_Appendage_b'] + vars_data['Heart_Left_Ventricle_b'] + vars_data['Kidney_Cortex_b'] + vars_data['Whole_Blood_b']\n",
    "\n",
    "obj = s3.get_object(Bucket=\"filesdatathon-grupo01\", Key=\"PGS002296_hmPOS_GRCh38_modified.txt\")\n",
    "grch38_df = pd.DataFrame(pd.read_csv(obj[\"Body\"], delimiter = \"\\t\"))\n",
    "grch38_df.columns = ['rs_id', 'chr','pos_hg19','pos_hg38','risk_allele','other_allele','weight_1']\n",
    "\n",
    "vars_data = vars_data.dropna(subset=['tissue_weight'])\n",
    "grch38_df = pd.merge(grch38_df, vars_data[['rs_id','tissue_weight']], on='rs_id',how='inner')\n",
    "grch38_df['weight'] = grch38_df['tissue_weight']\n",
    "\n",
    "effect_sizes_tissue_weight = load_effect_sizes_file.load_effect_sizes(grch38_df)\n",
    "\n",
    "obj = s3.get_object(Bucket=\"filesdatathon-grupo01\", Key=\"target_cohort.vcf\")\n",
    "samples_prs = prs_calculator.calc_vcf_prs(obj[\"Body\"].iter_lines(), effect_sizes_tissue_weight)\n",
    "sample_prs_df = pd.DataFrame(zip(list(samples_prs.keys()), list(samples_prs.values())))\n",
    "sample_prs_df.columns = ['s', 'filtered_tissue_weight_prs_sum']\n",
    "main_data = pd.merge(clin_data, sample_prs_df)\n",
    "main_data[\"filtered_tissue_weight_prs_sum\"] = zscore(main_data[\"filtered_tissue_weight_prs_sum\"])"
   ]
  },
  {
   "cell_type": "code",
   "execution_count": null,
   "id": "c13b19e7-47ad-4170-81c5-9c61a7576e2c",
   "metadata": {
    "tags": []
   },
   "outputs": [],
   "source": [
    "plot_density(main_data, prs_column = \"filtered_tissue_weight_prs_sum\")"
   ]
  },
  {
   "cell_type": "code",
   "execution_count": null,
   "id": "e5e36f88-2130-4351-9c9d-8b8082807565",
   "metadata": {
    "tags": []
   },
   "outputs": [],
   "source": [
    "predictors = ['filtered_tissue_weight_prs_sum','age','bmi','pc1','pc2','pc3','pc4','pc5']\n",
    "plot_roc(main_data, predictors, \"Full model (TISSUE weight)\")"
   ]
  },
  {
   "cell_type": "code",
   "execution_count": null,
   "id": "eef28ce4-11d6-4f12-9cfc-349f1a56732e",
   "metadata": {
    "tags": []
   },
   "outputs": [],
   "source": [
    "predictors = ['filtered_tissue_weight_prs_sum']\n",
    "plot_roc(main_data, predictors, \"Full model (TISSUE weight)\")"
   ]
  },
  {
   "cell_type": "markdown",
   "id": "ddd73d03-c534-4e2a-8aae-eb33f28b4452",
   "metadata": {},
   "source": [
    "## Combinação dos 3 scores "
   ]
  },
  {
   "cell_type": "code",
   "execution_count": null,
   "id": "6c1ab914-c5a0-480e-ab9b-0c8e43002996",
   "metadata": {
    "tags": []
   },
   "outputs": [],
   "source": [
    "# CADD + TISSUE\n",
    "obj = s3.get_object(Bucket=\"filesdatathon-grupo01\", Key=\"PGS002296_hmPOS_GRCh38_modified.txt\")\n",
    "grch38_df = pd.DataFrame(pd.read_csv(obj[\"Body\"], delimiter = \"\\t\"))\n",
    "grch38_df.columns = ['rs_id', 'chr','pos_hg19','pos_hg38','risk_allele','other_allele','weight_1']\n",
    "\n",
    "vars_data = vars_data.dropna(subset=['cadd_phred'])\n",
    "grch38_df = pd.merge(grch38_df, vars_data[['rs_id','cadd_phred']], on='rs_id',how='inner')\n",
    "grch38_df['weight'] = grch38_df['cadd_phred']\n",
    "\n",
    "effect_sizes_cadd = load_effect_sizes_file.load_effect_sizes(grch38_df)\n",
    "\n",
    "obj = s3.get_object(Bucket=\"filesdatathon-grupo01\", Key=\"target_cohort.vcf\")\n",
    "samples_prs = prs_calculator.calc_vcf_prs(obj[\"Body\"].iter_lines(), effect_sizes_cadd)\n",
    "sample_prs_df = pd.DataFrame(zip(list(samples_prs.keys()), list(samples_prs.values())))\n",
    "sample_prs_df.columns = ['s', 'filtered_cadd_prs_sum']\n",
    "main_data_2 = pd.merge(main_data, sample_prs_df)\n",
    "main_data_2[\"filtered_cadd_prs_sum\"] = zscore(main_data_2[\"filtered_cadd_prs_sum\"])\n",
    "\n",
    "# Calculate original PRS\n",
    "obj = s3.get_object(Bucket=\"filesdatathon-grupo01\", Key=\"target_cohort.vcf\")\n",
    "\n",
    "samples_prs = prs_calculator.calc_vcf_prs(obj[\"Body\"].iter_lines(), effect_sizes)\n",
    "sample_prs_df = pd.DataFrame(zip(list(samples_prs.keys()), list(samples_prs.values())))\n",
    "sample_prs_df.columns = ['s', 'original_prs_sum']\n",
    "# Merging original PRS with clinical data\n",
    "main_data_3 = pd.merge(main_data_2, sample_prs_df)\n",
    "main_data_3[\"original_prs_sum\"] = zscore(main_data_3[\"original_prs_sum\"])"
   ]
  },
  {
   "cell_type": "code",
   "execution_count": null,
   "id": "62dc8a5f-deb5-4254-94ae-018fa34335af",
   "metadata": {
    "tags": []
   },
   "outputs": [],
   "source": [
    "main_data_3[\"genetic_score\"] = main_data_3[\"filtered_tissue_weight_prs_sum\"] + main_data_3[\"original_prs_sum\"] + main_data_3[\"filtered_cadd_prs_sum\"]\n",
    "\n",
    "plot_density(main_data_3, prs_column = \"genetic_score\")"
   ]
  },
  {
   "cell_type": "code",
   "execution_count": null,
   "id": "57b4524e-7b3d-434a-9e64-60b194edbfc1",
   "metadata": {
    "tags": []
   },
   "outputs": [],
   "source": [
    "predictors = ['filtered_tissue_weight_prs_sum', 'original_prs_sum', 'filtered_cadd_prs_sum']\n",
    "plot_roc(main_data_3, predictors, \"PRS model (TISSUE + ORIGINAL + CADD weight)\")"
   ]
  },
  {
   "cell_type": "code",
   "execution_count": null,
   "id": "d9aa5f1c-bc20-4f98-9311-8024516032a0",
   "metadata": {
    "tags": []
   },
   "outputs": [],
   "source": [
    "predictors = ['filtered_tissue_weight_prs_sum', 'original_prs_sum', 'filtered_cadd_prs_sum','age','bmi','pc1','pc2','pc3','pc4','pc5']\n",
    "plot_roc(main_data_3, predictors, \"PRS model (TISSUE + ORIGINAL + CADD weight)\")"
   ]
  },
  {
   "cell_type": "markdown",
   "id": "d9260f6f-53d1-4606-a45a-17eb94138832",
   "metadata": {
    "tags": []
   },
   "source": [
    "# METODO 03 - COMBINAÇÃO\n",
    "## Filtragem + Novos Pesos"
   ]
  },
  {
   "cell_type": "code",
   "execution_count": null,
   "id": "d284c99e-1337-41b2-9650-e4acff88c0db",
   "metadata": {
    "tags": []
   },
   "outputs": [],
   "source": [
    "# NOVOS PESOS + FILTRAGEm\n",
    "tissues_list = ['Artery_Aorta','Artery_Coronary', 'Artery_Tibial', 'Heart_Atrial_Appendage', 'Heart_Left_Ventricle', 'Kidney_Cortex', 'Whole_Blood']\n",
    "\n",
    "for tissue in tissues_list:\n",
    "    vars_data[tissue + '_b'] = vars_data[tissue].apply(lambda x: 1 if x in ['high-expression','low-expression'] else 0)\n",
    "\n",
    "vars_data['tissue_weight'] = vars_data['Artery_Aorta_b'] + vars_data['Artery_Coronary_b'] + vars_data['Artery_Tibial_b'] + vars_data['Heart_Atrial_Appendage_b'] + vars_data['Heart_Left_Ventricle_b'] + vars_data['Kidney_Cortex_b'] + vars_data['Whole_Blood_b']\n",
    "\n",
    "obj = s3.get_object(Bucket=\"filesdatathon-grupo01\", Key=\"PGS002296_hmPOS_GRCh38_modified.txt\")\n",
    "grch38_df = pd.DataFrame(pd.read_csv(obj[\"Body\"], delimiter = \"\\t\"))\n",
    "grch38_df.columns = ['rs_id', 'chr','pos_hg19','pos_hg38','risk_allele','other_allele','weight_1']\n",
    "\n",
    "vars_data = vars_data.dropna(subset=['tissue_weight'])\n",
    "grch38_df = pd.merge(grch38_df, vars_data[['rs_id','tissue_weight']], on='rs_id',how='inner')\n",
    "grch38_df['weight'] = grch38_df['tissue_weight']\n",
    "\n",
    "effect_sizes_tissue_weight = load_effect_sizes_file.load_effect_sizes(grch38_df)\n",
    "effect_sizes_tissue_weight = filter_effect(effect_sizes_tissue_weight, variants_allowlist_both) # < NEW\n",
    "\n",
    "obj = s3.get_object(Bucket=\"filesdatathon-grupo01\", Key=\"target_cohort.vcf\")\n",
    "samples_prs = prs_calculator.calc_vcf_prs(obj[\"Body\"].iter_lines(), effect_sizes_tissue_weight)\n",
    "sample_prs_df = pd.DataFrame(zip(list(samples_prs.keys()), list(samples_prs.values())))\n",
    "sample_prs_df.columns = ['s', 'filtered_tissue_weight_prs_sum']\n",
    "main_data = pd.merge(clin_data, sample_prs_df)\n",
    "main_data[\"filtered_tissue_weight_prs_sum\"] = zscore(main_data[\"filtered_tissue_weight_prs_sum\"])\n",
    "\n",
    "\n",
    "# ORIGINAL\n",
    "obj = s3.get_object(Bucket=\"filesdatathon-grupo01\", Key=\"target_cohort.vcf\")\n",
    "\n",
    "effect_sizes = filter_effect(effect_sizes, variants_allowlist_both) # < NEW\n",
    "\n",
    "samples_prs = prs_calculator.calc_vcf_prs(obj[\"Body\"].iter_lines(), effect_sizes)\n",
    "sample_prs_df = pd.DataFrame(zip(list(samples_prs.keys()), list(samples_prs.values())))\n",
    "sample_prs_df.columns = ['s', 'original_prs_sum']\n",
    "\n",
    "main_data_2 = pd.merge(main_data, sample_prs_df)\n",
    "main_data_2[\"original_prs_sum\"] = zscore(main_data_2[\"original_prs_sum\"])\n",
    "\n",
    "# CADD as SCORE\n",
    "obj = s3.get_object(Bucket=\"filesdatathon-grupo01\", Key=\"PGS002296_hmPOS_GRCh38_modified.txt\")\n",
    "grch38_df = pd.DataFrame(pd.read_csv(obj[\"Body\"], delimiter = \"\\t\"))\n",
    "grch38_df.columns = ['rs_id', 'chr','pos_hg19','pos_hg38','risk_allele','other_allele','weight_1']\n",
    "\n",
    "vars_data = vars_data.dropna(subset=['cadd_phred'])\n",
    "grch38_df = pd.merge(grch38_df, vars_data[['rs_id','cadd_phred']], on='rs_id',how='inner')\n",
    "grch38_df['weight'] = grch38_df['cadd_phred']\n",
    "\n",
    "effect_sizes_cadd = load_effect_sizes_file.load_effect_sizes(grch38_df)\n",
    "effect_sizes_cadd = filter_effect(effect_sizes_cadd, variants_allowlist_both) # < NEW\n",
    "\n",
    "obj = s3.get_object(Bucket=\"filesdatathon-grupo01\", Key=\"target_cohort.vcf\")\n",
    "samples_prs = prs_calculator.calc_vcf_prs(obj[\"Body\"].iter_lines(), effect_sizes_cadd)\n",
    "sample_prs_df = pd.DataFrame(zip(list(samples_prs.keys()), list(samples_prs.values())))\n",
    "sample_prs_df.columns = ['s', 'filtered_cadd_prs_sum']\n",
    "main_data_3 = pd.merge(main_data_2, sample_prs_df)\n",
    "main_data_3[\"filtered_cadd_prs_sum\"] = zscore(main_data_3[\"filtered_cadd_prs_sum\"])"
   ]
  },
  {
   "cell_type": "code",
   "execution_count": null,
   "id": "39c11b3f-fc23-433c-abfa-8478443766a9",
   "metadata": {
    "tags": []
   },
   "outputs": [],
   "source": [
    "main_data_3[\"genetic_score\"] = main_data_3[\"filtered_tissue_weight_prs_sum\"] + main_data_3[\"original_prs_sum\"] + main_data_3[\"filtered_cadd_prs_sum\"]\n",
    "\n",
    "plot_density(main_data_3, prs_column = \"genetic_score\")"
   ]
  },
  {
   "cell_type": "code",
   "execution_count": null,
   "id": "6d273e8c-34df-4968-ae71-21f11489e483",
   "metadata": {
    "tags": []
   },
   "outputs": [],
   "source": [
    "predictors = ['filtered_tissue_weight_prs_sum', 'original_prs_sum', 'filtered_cadd_prs_sum']\n",
    "plot_roc(main_data_3, predictors, \"PRS model (TISSUE + ORIGINAL + CADD weight)\")"
   ]
  }
 ],
 "metadata": {
  "kernelspec": {
   "display_name": "conda_python3",
   "language": "python",
   "name": "conda_python3"
  },
  "language_info": {
   "codemirror_mode": {
    "name": "ipython",
    "version": 3
   },
   "file_extension": ".py",
   "mimetype": "text/x-python",
   "name": "python",
   "nbconvert_exporter": "python",
   "pygments_lexer": "ipython3",
   "version": "3.10.8"
  }
 },
 "nbformat": 4,
 "nbformat_minor": 5
}
